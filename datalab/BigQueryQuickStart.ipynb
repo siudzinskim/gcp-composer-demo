{
 "cells": [
  {
   "cell_type": "markdown",
   "metadata": {},
   "source": [
    "# Datalab - BigQuery - quick start"
   ]
  },
  {
   "cell_type": "markdown",
   "metadata": {},
   "source": [
    "## Running queries"
   ]
  },
  {
   "cell_type": "markdown",
   "metadata": {},
   "source": [
    "#### To start working with BigQuery in Datalab, just import `google.datalab.bigquery` library and run queries:"
   ]
  },
  {
   "cell_type": "code",
   "execution_count": null,
   "metadata": {},
   "outputs": [],
   "source": [
    "import google.datalab.bigquery as bq\n",
    "query = \"\"\"SELECT * FROM `siudzinskim-composer-demo-0.demo.taxi_trips_agg`\"\"\"\n",
    "\n",
    "df = bq.Query(query).execute().result().to_dataframe()\n",
    "df.head()"
   ]
  },
  {
   "cell_type": "markdown",
   "metadata": {},
   "source": [
    "#### Or use `%%bq` magic blocks. It helps to control costs with running `dryrun` to clculate the queried amount of data and verify if query results are cached already. \n",
    "#### Once query results are cached, running the same query doesn't cost the money."
   ]
  },
  {
   "cell_type": "code",
   "execution_count": null,
   "metadata": {},
   "outputs": [],
   "source": [
    "%%bq dryrun\n",
    "SELECT * FROM `siudzinskim-composer-demo-0.demo.taxi_trips_agg`"
   ]
  },
  {
   "cell_type": "code",
   "execution_count": null,
   "metadata": {},
   "outputs": [],
   "source": [
    "%%bq tables describe --name \"siudzinskim-composer-demo-0.demo.taxi_trips_agg\""
   ]
  },
  {
   "cell_type": "code",
   "execution_count": null,
   "metadata": {},
   "outputs": [],
   "source": [
    "%%bq query\n",
    "SELECT * FROM `siudzinskim-composer-demo-0.demo.taxi_trips_agg`"
   ]
  },
  {
   "cell_type": "markdown",
   "metadata": {},
   "source": [
    "## Use the partitioned tables and selective queries"
   ]
  },
  {
   "cell_type": "markdown",
   "metadata": {},
   "source": [
    "#### Tables partitioning is extremly important in order to reduce the cost of queries. E.g. our source dataset `bigquery-public-data.new_york_taxi_trips.tlc_green_trips_2018` is not partitioned and quite wide:"
   ]
  },
  {
   "cell_type": "code",
   "execution_count": null,
   "metadata": {},
   "outputs": [],
   "source": [
    "%%bq tables describe --name \"bigquery-public-data.new_york_taxi_trips.tlc_green_trips_2018\""
   ]
  },
  {
   "cell_type": "markdown",
   "metadata": {},
   "source": [
    "#### Selecting all columns may cost quite a lot:"
   ]
  },
  {
   "cell_type": "code",
   "execution_count": null,
   "metadata": {},
   "outputs": [],
   "source": [
    "%%bq dryrun\n",
    "SELECT * FROM `bigquery-public-data.new_york_taxi_trips.tlc_green_trips_2018`"
   ]
  },
  {
   "cell_type": "markdown",
   "metadata": {},
   "source": [
    "#### By selecting only required fields it is possible to reduce the cost of queries:"
   ]
  },
  {
   "cell_type": "code",
   "execution_count": null,
   "metadata": {},
   "outputs": [],
   "source": [
    "%%bq dryrun \n",
    "SELECT \n",
    "    CAST(pickup_datetime AS DATE) AS pickup_datetime, \n",
    "    tip_amount, \n",
    "    total_amount\n",
    "FROM `bigquery-public-data.new_york_taxi_trips.tlc_green_trips_2018`"
   ]
  },
  {
   "cell_type": "markdown",
   "metadata": {},
   "source": [
    "#### If table is not partitioned, the whole dataset must be read to get results, even if you select data only from a single partition:"
   ]
  },
  {
   "cell_type": "code",
   "execution_count": null,
   "metadata": {},
   "outputs": [],
   "source": [
    "%%bq dryrun \n",
    "SELECT \n",
    "    CAST(pickup_datetime AS DATE) AS pickup_datetime, \n",
    "    tip_amount, \n",
    "    total_amount\n",
    "FROM `bigquery-public-data.new_york_taxi_trips.tlc_green_trips_2018`\n",
    "WHERE DATE(pickup_datetime) >= DATE(2018,12,1)"
   ]
  },
  {
   "cell_type": "markdown",
   "metadata": {},
   "source": [
    "#### That is why it's worth to create partitioned tables. E.g. `taxi_trips` table was created and partitioned by date:"
   ]
  },
  {
   "cell_type": "code",
   "execution_count": null,
   "metadata": {},
   "outputs": [],
   "source": [
    "%%bq tables describe --name \"siudzinskim-composer-demo-0.demo.taxi_trips\""
   ]
  },
  {
   "cell_type": "markdown",
   "metadata": {},
   "source": [
    "#### Running query for all table will read all the partitions:"
   ]
  },
  {
   "cell_type": "code",
   "execution_count": null,
   "metadata": {},
   "outputs": [],
   "source": [
    "%%bq dryrun\n",
    "SELECT * FROM `siudzinskim-composer-demo-0.demo.taxi_trips`"
   ]
  },
  {
   "cell_type": "markdown",
   "metadata": {},
   "source": [
    "#### But if only the most recent data is required, there is no need to read all the data. In following case it helps to save over 90% of money by selecting what we need:"
   ]
  },
  {
   "cell_type": "code",
   "execution_count": null,
   "metadata": {},
   "outputs": [],
   "source": [
    "%%bq dryrun\n",
    "SELECT * FROM `siudzinskim-composer-demo-0.demo.taxi_trips` WHERE pickup_datetime >= DATE(2018,12,1)"
   ]
  },
  {
   "cell_type": "code",
   "execution_count": null,
   "metadata": {},
   "outputs": [],
   "source": [
    "%%bq query\n",
    "SELECT * FROM `siudzinskim-composer-demo-0.demo.taxi_trips` WHERE pickup_datetime >= DATE(2018,12,1)"
   ]
  },
  {
   "cell_type": "markdown",
   "metadata": {},
   "source": [
    "## Create and query simple ML models with SQL only"
   ]
  },
  {
   "cell_type": "markdown",
   "metadata": {},
   "source": [
    "#### BigQuery allows to define simple Machine Learning models on SQL tables using only the SQL language:"
   ]
  },
  {
   "cell_type": "code",
   "execution_count": null,
   "metadata": {},
   "outputs": [],
   "source": [
    "%%bq query \n",
    "DROP MODEL `siudzinskim-composer-demo-0.demo.total_model`"
   ]
  },
  {
   "cell_type": "code",
   "execution_count": null,
   "metadata": {},
   "outputs": [],
   "source": [
    "%%bq dryrun\n",
    "CREATE MODEL `demo.total_model`\n",
    "OPTIONS\n",
    "  (model_type='linear_reg',\n",
    "    input_label_cols=['avg_total']) AS\n",
    "SELECT\n",
    "  trips.trip_date,\n",
    "  trips.avg_tips,\n",
    "  trips.avg_total,\n",
    "  weather.averageif_air_pressure,\n",
    "  weather.averageif_temperature,\n",
    "  weather.averageif_wind_angle,\n",
    "  weather.averageif_wind_speed\n",
    "FROM\n",
    "  `siudzinskim-composer-demo-0.demo.taxi_trips_agg` trips\n",
    "JOIN\n",
    "  `siudzinskim-composer-demo-0.demo.nyc_avg_temperature` weather\n",
    "ON\n",
    "  trips.trip_date = DATE(weather.date)\n",
    "  AND RAND() < 0.75\n"
   ]
  },
  {
   "cell_type": "code",
   "execution_count": null,
   "metadata": {},
   "outputs": [],
   "source": [
    "%%bq query\n",
    "CREATE MODEL `demo.total_model`\n",
    "OPTIONS\n",
    "  (model_type='linear_reg',\n",
    "    input_label_cols=['avg_total']) AS\n",
    "SELECT\n",
    "  trips.trip_date,\n",
    "  trips.avg_tips,\n",
    "  trips.avg_total,\n",
    "  weather.averageif_air_pressure,\n",
    "  weather.averageif_temperature,\n",
    "  weather.averageif_wind_angle,\n",
    "  weather.averageif_wind_speed\n",
    "FROM\n",
    "  `siudzinskim-composer-demo-0.demo.taxi_trips_agg` trips\n",
    "JOIN\n",
    "  `siudzinskim-composer-demo-0.demo.nyc_avg_temperature` weather\n",
    "ON\n",
    "  trips.trip_date = DATE(weather.date)\n",
    "  AND RAND() < 0.75\n"
   ]
  },
  {
   "cell_type": "code",
   "execution_count": null,
   "metadata": {},
   "outputs": [],
   "source": [
    "%%bq query\n",
    "SELECT\n",
    "  trip_date ,\n",
    "  avg_total,\n",
    "  predicted_avg_total,\n",
    "  ABS(avg_total - predicted_avg_total) AS difference\n",
    "FROM\n",
    "  ML.PREDICT(MODEL `demo.total_model`,\n",
    "(\n",
    "SELECT\n",
    "  trips.trip_date,\n",
    "  trips.avg_tips,\n",
    "  trips.avg_total,\n",
    "  weather.averageif_air_pressure,\n",
    "  weather.averageif_temperature,\n",
    "  weather.averageif_wind_angle,\n",
    "  weather.averageif_wind_speed\n",
    "FROM\n",
    "  `siudzinskim-composer-demo-0.demo.taxi_trips_agg` trips\n",
    "JOIN\n",
    "  `siudzinskim-composer-demo-0.demo.nyc_avg_temperature` weather\n",
    "ON\n",
    "  trips.trip_date = DATE(weather.date)\n",
    "))\n"
   ]
  },
  {
   "cell_type": "markdown",
   "metadata": {},
   "source": [
    "### ENJOY YOU JOURNEY WITH BIGQUERY"
   ]
  }
 ],
 "metadata": {
  "kernelspec": {
   "display_name": "Python 2",
   "language": "python",
   "name": "python2"
  },
  "language_info": {
   "codemirror_mode": {
    "name": "ipython",
    "version": 2
   },
   "file_extension": ".py",
   "mimetype": "text/x-python",
   "name": "python",
   "nbconvert_exporter": "python",
   "pygments_lexer": "ipython2",
   "version": "2.7.15"
  }
 },
 "nbformat": 4,
 "nbformat_minor": 2
}
